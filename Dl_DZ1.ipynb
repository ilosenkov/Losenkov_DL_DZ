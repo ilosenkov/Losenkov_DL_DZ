{
 "cells": [
  {
   "cell_type": "code",
   "execution_count": 140,
   "id": "691c6b2b-1feb-4c39-89bd-25ed12401c93",
   "metadata": {},
   "outputs": [],
   "source": [
    "import numpy as np\n",
    "import pandas as pd\n",
    "from sklearn.model_selection import train_test_split\n",
    "from sklearn import preprocessing\n",
    "import torch\n",
    "from torch.utils.data import DataLoader, TensorDataset\n",
    "from tqdm import tqdm"
   ]
  },
  {
   "cell_type": "markdown",
   "id": "9057153a-5dad-492c-a978-9e49e35df411",
   "metadata": {},
   "source": [
    "**1. Загрузка данных**"
   ]
  },
  {
   "cell_type": "code",
   "execution_count": 3,
   "id": "f1a6fd26-e5f7-47d7-a053-f4ec1089edec",
   "metadata": {},
   "outputs": [],
   "source": [
    "import kagglehub\n",
    "\n",
    "path_calif = kagglehub.dataset_download(\"camnugent/california-housing-prices\")\n",
    "path_boston = kagglehub.dataset_download(\"vikrishnan/boston-house-prices\")\n",
    "\n",
    "df_calif = pd.read_csv(path_calif + '\\housing.csv')\n",
    "df_boston = pd.read_csv(path_boston + '\\housing.csv', \n",
    "                        header = 0, \n",
    "                        names = ['CRIM', 'ZN', 'INDUS','CHAS','NOX','RM','AGE','DIS','RAD','TAX','PTRATIO', 'BK', 'LSTAT', 'MEDV'], \n",
    "                        delim_whitespace = True)"
   ]
  },
  {
   "cell_type": "code",
   "execution_count": 4,
   "id": "ed1fd0ff-c995-4c33-9213-137eb68a0743",
   "metadata": {
    "scrolled": true
   },
   "outputs": [
    {
     "name": "stdout",
     "output_type": "stream",
     "text": [
      "<class 'pandas.core.frame.DataFrame'>\n",
      "RangeIndex: 20640 entries, 0 to 20639\n",
      "Data columns (total 10 columns):\n",
      " #   Column              Non-Null Count  Dtype  \n",
      "---  ------              --------------  -----  \n",
      " 0   longitude           20640 non-null  float64\n",
      " 1   latitude            20640 non-null  float64\n",
      " 2   housing_median_age  20640 non-null  float64\n",
      " 3   total_rooms         20640 non-null  float64\n",
      " 4   total_bedrooms      20433 non-null  float64\n",
      " 5   population          20640 non-null  float64\n",
      " 6   households          20640 non-null  float64\n",
      " 7   median_income       20640 non-null  float64\n",
      " 8   median_house_value  20640 non-null  float64\n",
      " 9   ocean_proximity     20640 non-null  object \n",
      "dtypes: float64(9), object(1)\n",
      "memory usage: 1.6+ MB\n"
     ]
    },
    {
     "data": {
      "text/plain": [
       "(20640, 10)"
      ]
     },
     "metadata": {},
     "output_type": "display_data"
    },
    {
     "data": {
      "text/plain": [
       "None"
      ]
     },
     "metadata": {},
     "output_type": "display_data"
    },
    {
     "data": {
      "text/html": [
       "<div>\n",
       "<style scoped>\n",
       "    .dataframe tbody tr th:only-of-type {\n",
       "        vertical-align: middle;\n",
       "    }\n",
       "\n",
       "    .dataframe tbody tr th {\n",
       "        vertical-align: top;\n",
       "    }\n",
       "\n",
       "    .dataframe thead th {\n",
       "        text-align: right;\n",
       "    }\n",
       "</style>\n",
       "<table border=\"1\" class=\"dataframe\">\n",
       "  <thead>\n",
       "    <tr style=\"text-align: right;\">\n",
       "      <th></th>\n",
       "      <th>longitude</th>\n",
       "      <th>latitude</th>\n",
       "      <th>housing_median_age</th>\n",
       "      <th>total_rooms</th>\n",
       "      <th>total_bedrooms</th>\n",
       "      <th>population</th>\n",
       "      <th>households</th>\n",
       "      <th>median_income</th>\n",
       "      <th>median_house_value</th>\n",
       "      <th>ocean_proximity</th>\n",
       "    </tr>\n",
       "  </thead>\n",
       "  <tbody>\n",
       "    <tr>\n",
       "      <th>0</th>\n",
       "      <td>-122.23</td>\n",
       "      <td>37.88</td>\n",
       "      <td>41.0</td>\n",
       "      <td>880.0</td>\n",
       "      <td>129.0</td>\n",
       "      <td>322.0</td>\n",
       "      <td>126.0</td>\n",
       "      <td>8.3252</td>\n",
       "      <td>452600.0</td>\n",
       "      <td>NEAR BAY</td>\n",
       "    </tr>\n",
       "    <tr>\n",
       "      <th>1</th>\n",
       "      <td>-122.22</td>\n",
       "      <td>37.86</td>\n",
       "      <td>21.0</td>\n",
       "      <td>7099.0</td>\n",
       "      <td>1106.0</td>\n",
       "      <td>2401.0</td>\n",
       "      <td>1138.0</td>\n",
       "      <td>8.3014</td>\n",
       "      <td>358500.0</td>\n",
       "      <td>NEAR BAY</td>\n",
       "    </tr>\n",
       "    <tr>\n",
       "      <th>2</th>\n",
       "      <td>-122.24</td>\n",
       "      <td>37.85</td>\n",
       "      <td>52.0</td>\n",
       "      <td>1467.0</td>\n",
       "      <td>190.0</td>\n",
       "      <td>496.0</td>\n",
       "      <td>177.0</td>\n",
       "      <td>7.2574</td>\n",
       "      <td>352100.0</td>\n",
       "      <td>NEAR BAY</td>\n",
       "    </tr>\n",
       "    <tr>\n",
       "      <th>3</th>\n",
       "      <td>-122.25</td>\n",
       "      <td>37.85</td>\n",
       "      <td>52.0</td>\n",
       "      <td>1274.0</td>\n",
       "      <td>235.0</td>\n",
       "      <td>558.0</td>\n",
       "      <td>219.0</td>\n",
       "      <td>5.6431</td>\n",
       "      <td>341300.0</td>\n",
       "      <td>NEAR BAY</td>\n",
       "    </tr>\n",
       "    <tr>\n",
       "      <th>4</th>\n",
       "      <td>-122.25</td>\n",
       "      <td>37.85</td>\n",
       "      <td>52.0</td>\n",
       "      <td>1627.0</td>\n",
       "      <td>280.0</td>\n",
       "      <td>565.0</td>\n",
       "      <td>259.0</td>\n",
       "      <td>3.8462</td>\n",
       "      <td>342200.0</td>\n",
       "      <td>NEAR BAY</td>\n",
       "    </tr>\n",
       "  </tbody>\n",
       "</table>\n",
       "</div>"
      ],
      "text/plain": [
       "   longitude  latitude  housing_median_age  total_rooms  total_bedrooms  \\\n",
       "0    -122.23     37.88                41.0        880.0           129.0   \n",
       "1    -122.22     37.86                21.0       7099.0          1106.0   \n",
       "2    -122.24     37.85                52.0       1467.0           190.0   \n",
       "3    -122.25     37.85                52.0       1274.0           235.0   \n",
       "4    -122.25     37.85                52.0       1627.0           280.0   \n",
       "\n",
       "   population  households  median_income  median_house_value ocean_proximity  \n",
       "0       322.0       126.0         8.3252            452600.0        NEAR BAY  \n",
       "1      2401.0      1138.0         8.3014            358500.0        NEAR BAY  \n",
       "2       496.0       177.0         7.2574            352100.0        NEAR BAY  \n",
       "3       558.0       219.0         5.6431            341300.0        NEAR BAY  \n",
       "4       565.0       259.0         3.8462            342200.0        NEAR BAY  "
      ]
     },
     "metadata": {},
     "output_type": "display_data"
    }
   ],
   "source": [
    "display(df_calif.shape, df_calif.info(), df_calif.head())"
   ]
  },
  {
   "cell_type": "code",
   "execution_count": 5,
   "id": "428079c1-fdff-413a-b991-c2b1bf5d5a76",
   "metadata": {},
   "outputs": [
    {
     "name": "stdout",
     "output_type": "stream",
     "text": [
      "<class 'pandas.core.frame.DataFrame'>\n",
      "RangeIndex: 505 entries, 0 to 504\n",
      "Data columns (total 14 columns):\n",
      " #   Column   Non-Null Count  Dtype  \n",
      "---  ------   --------------  -----  \n",
      " 0   CRIM     505 non-null    float64\n",
      " 1   ZN       505 non-null    float64\n",
      " 2   INDUS    505 non-null    float64\n",
      " 3   CHAS     505 non-null    int64  \n",
      " 4   NOX      505 non-null    float64\n",
      " 5   RM       505 non-null    float64\n",
      " 6   AGE      505 non-null    float64\n",
      " 7   DIS      505 non-null    float64\n",
      " 8   RAD      505 non-null    int64  \n",
      " 9   TAX      505 non-null    float64\n",
      " 10  PTRATIO  505 non-null    float64\n",
      " 11  BK       505 non-null    float64\n",
      " 12  LSTAT    505 non-null    float64\n",
      " 13  MEDV     505 non-null    float64\n",
      "dtypes: float64(12), int64(2)\n",
      "memory usage: 55.4 KB\n"
     ]
    },
    {
     "data": {
      "text/plain": [
       "(505, 14)"
      ]
     },
     "metadata": {},
     "output_type": "display_data"
    },
    {
     "data": {
      "text/plain": [
       "None"
      ]
     },
     "metadata": {},
     "output_type": "display_data"
    },
    {
     "data": {
      "text/html": [
       "<div>\n",
       "<style scoped>\n",
       "    .dataframe tbody tr th:only-of-type {\n",
       "        vertical-align: middle;\n",
       "    }\n",
       "\n",
       "    .dataframe tbody tr th {\n",
       "        vertical-align: top;\n",
       "    }\n",
       "\n",
       "    .dataframe thead th {\n",
       "        text-align: right;\n",
       "    }\n",
       "</style>\n",
       "<table border=\"1\" class=\"dataframe\">\n",
       "  <thead>\n",
       "    <tr style=\"text-align: right;\">\n",
       "      <th></th>\n",
       "      <th>CRIM</th>\n",
       "      <th>ZN</th>\n",
       "      <th>INDUS</th>\n",
       "      <th>CHAS</th>\n",
       "      <th>NOX</th>\n",
       "      <th>RM</th>\n",
       "      <th>AGE</th>\n",
       "      <th>DIS</th>\n",
       "      <th>RAD</th>\n",
       "      <th>TAX</th>\n",
       "      <th>PTRATIO</th>\n",
       "      <th>BK</th>\n",
       "      <th>LSTAT</th>\n",
       "      <th>MEDV</th>\n",
       "    </tr>\n",
       "  </thead>\n",
       "  <tbody>\n",
       "    <tr>\n",
       "      <th>0</th>\n",
       "      <td>0.02731</td>\n",
       "      <td>0.0</td>\n",
       "      <td>7.07</td>\n",
       "      <td>0</td>\n",
       "      <td>0.469</td>\n",
       "      <td>6.421</td>\n",
       "      <td>78.9</td>\n",
       "      <td>4.9671</td>\n",
       "      <td>2</td>\n",
       "      <td>242.0</td>\n",
       "      <td>17.8</td>\n",
       "      <td>396.90</td>\n",
       "      <td>9.14</td>\n",
       "      <td>21.6</td>\n",
       "    </tr>\n",
       "    <tr>\n",
       "      <th>1</th>\n",
       "      <td>0.02729</td>\n",
       "      <td>0.0</td>\n",
       "      <td>7.07</td>\n",
       "      <td>0</td>\n",
       "      <td>0.469</td>\n",
       "      <td>7.185</td>\n",
       "      <td>61.1</td>\n",
       "      <td>4.9671</td>\n",
       "      <td>2</td>\n",
       "      <td>242.0</td>\n",
       "      <td>17.8</td>\n",
       "      <td>392.83</td>\n",
       "      <td>4.03</td>\n",
       "      <td>34.7</td>\n",
       "    </tr>\n",
       "    <tr>\n",
       "      <th>2</th>\n",
       "      <td>0.03237</td>\n",
       "      <td>0.0</td>\n",
       "      <td>2.18</td>\n",
       "      <td>0</td>\n",
       "      <td>0.458</td>\n",
       "      <td>6.998</td>\n",
       "      <td>45.8</td>\n",
       "      <td>6.0622</td>\n",
       "      <td>3</td>\n",
       "      <td>222.0</td>\n",
       "      <td>18.7</td>\n",
       "      <td>394.63</td>\n",
       "      <td>2.94</td>\n",
       "      <td>33.4</td>\n",
       "    </tr>\n",
       "    <tr>\n",
       "      <th>3</th>\n",
       "      <td>0.06905</td>\n",
       "      <td>0.0</td>\n",
       "      <td>2.18</td>\n",
       "      <td>0</td>\n",
       "      <td>0.458</td>\n",
       "      <td>7.147</td>\n",
       "      <td>54.2</td>\n",
       "      <td>6.0622</td>\n",
       "      <td>3</td>\n",
       "      <td>222.0</td>\n",
       "      <td>18.7</td>\n",
       "      <td>396.90</td>\n",
       "      <td>5.33</td>\n",
       "      <td>36.2</td>\n",
       "    </tr>\n",
       "    <tr>\n",
       "      <th>4</th>\n",
       "      <td>0.02985</td>\n",
       "      <td>0.0</td>\n",
       "      <td>2.18</td>\n",
       "      <td>0</td>\n",
       "      <td>0.458</td>\n",
       "      <td>6.430</td>\n",
       "      <td>58.7</td>\n",
       "      <td>6.0622</td>\n",
       "      <td>3</td>\n",
       "      <td>222.0</td>\n",
       "      <td>18.7</td>\n",
       "      <td>394.12</td>\n",
       "      <td>5.21</td>\n",
       "      <td>28.7</td>\n",
       "    </tr>\n",
       "  </tbody>\n",
       "</table>\n",
       "</div>"
      ],
      "text/plain": [
       "      CRIM   ZN  INDUS  CHAS    NOX     RM   AGE     DIS  RAD    TAX  PTRATIO  \\\n",
       "0  0.02731  0.0   7.07     0  0.469  6.421  78.9  4.9671    2  242.0     17.8   \n",
       "1  0.02729  0.0   7.07     0  0.469  7.185  61.1  4.9671    2  242.0     17.8   \n",
       "2  0.03237  0.0   2.18     0  0.458  6.998  45.8  6.0622    3  222.0     18.7   \n",
       "3  0.06905  0.0   2.18     0  0.458  7.147  54.2  6.0622    3  222.0     18.7   \n",
       "4  0.02985  0.0   2.18     0  0.458  6.430  58.7  6.0622    3  222.0     18.7   \n",
       "\n",
       "       BK  LSTAT  MEDV  \n",
       "0  396.90   9.14  21.6  \n",
       "1  392.83   4.03  34.7  \n",
       "2  394.63   2.94  33.4  \n",
       "3  396.90   5.33  36.2  \n",
       "4  394.12   5.21  28.7  "
      ]
     },
     "metadata": {},
     "output_type": "display_data"
    }
   ],
   "source": [
    "display(df_boston.shape, df_boston.info(), df_boston.head())"
   ]
  },
  {
   "cell_type": "code",
   "execution_count": 6,
   "id": "0d617e9a-e674-4648-a190-b16008ad7998",
   "metadata": {},
   "outputs": [],
   "source": [
    "# Заполение пропусков\n",
    "df_calif['total_bedrooms'] = df_calif.groupby(by = 'ocean_proximity').transform(lambda x: x.fillna(x.median()))['total_bedrooms']"
   ]
  },
  {
   "cell_type": "markdown",
   "id": "34b5a0b0-77d6-4aae-9469-9e9624501cb4",
   "metadata": {},
   "source": [
    "**2. Разделение выборок**"
   ]
  },
  {
   "cell_type": "code",
   "execution_count": 8,
   "id": "54731036-fb06-41dc-a277-bf1de7106bba",
   "metadata": {},
   "outputs": [],
   "source": [
    "# Выделение целевой переменной и признаков\n",
    "x_calif = df_calif.drop(columns = ['median_house_value'])\n",
    "y_calif = df_calif['median_house_value']\n",
    "\n",
    "x_boston = df_boston.drop(columns = ['MEDV'])\n",
    "y_boston = df_boston['MEDV']"
   ]
  },
  {
   "cell_type": "code",
   "execution_count": 9,
   "id": "e0fb21b0-2e0c-4ba0-85f8-5e147a5390d4",
   "metadata": {},
   "outputs": [],
   "source": [
    "# Нормализация количественных признаков\n",
    "x_calif_cont = x_calif.drop(columns = ['ocean_proximity'])\n",
    "x_calif_cont = preprocessing.normalize(x_calif_cont)\n",
    "\n",
    "x_boston = preprocessing.normalize(x_boston).astype(float)"
   ]
  },
  {
   "cell_type": "code",
   "execution_count": 10,
   "id": "79331f05-765f-42e0-b3da-d49ddd293cd6",
   "metadata": {},
   "outputs": [],
   "source": [
    "# Кодирование признака ocean_proximity\n",
    "ohe = preprocessing.OneHotEncoder()\n",
    "x_calif_op = ohe.fit_transform(x_calif[['ocean_proximity']]).toarray()\n",
    "\n",
    "x_calif = np.concatenate((x_calif_op, x_calif_cont), axis = 1).astype(float)"
   ]
  },
  {
   "cell_type": "code",
   "execution_count": 96,
   "id": "1c137d25-f0d1-491c-bad8-304cbd068203",
   "metadata": {},
   "outputs": [
    {
     "name": "stderr",
     "output_type": "stream",
     "text": [
      "C:\\Users\\innok\\AppData\\Local\\Temp\\ipykernel_16244\\1331092360.py:2: UserWarning: To copy construct from a tensor, it is recommended to use sourceTensor.clone().detach() or sourceTensor.clone().detach().requires_grad_(True), rather than torch.tensor(sourceTensor).\n",
      "  x_calif = torch.tensor(x_calif, dtype = torch.float32)\n",
      "C:\\Users\\innok\\AppData\\Local\\Temp\\ipykernel_16244\\1331092360.py:3: UserWarning: To copy construct from a tensor, it is recommended to use sourceTensor.clone().detach() or sourceTensor.clone().detach().requires_grad_(True), rather than torch.tensor(sourceTensor).\n",
      "  y_calif = torch.tensor(y_calif, dtype = torch.float32)\n",
      "C:\\Users\\innok\\AppData\\Local\\Temp\\ipykernel_16244\\1331092360.py:5: UserWarning: To copy construct from a tensor, it is recommended to use sourceTensor.clone().detach() or sourceTensor.clone().detach().requires_grad_(True), rather than torch.tensor(sourceTensor).\n",
      "  x_boston = torch.tensor(x_boston, dtype = torch.float32)\n",
      "C:\\Users\\innok\\AppData\\Local\\Temp\\ipykernel_16244\\1331092360.py:6: UserWarning: To copy construct from a tensor, it is recommended to use sourceTensor.clone().detach() or sourceTensor.clone().detach().requires_grad_(True), rather than torch.tensor(sourceTensor).\n",
      "  y_boston = torch.tensor(y_boston, dtype = torch.float32)\n"
     ]
    }
   ],
   "source": [
    "# Перевод в тензоры\n",
    "x_calif = torch.tensor(x_calif, dtype = torch.float32)\n",
    "y_calif = torch.tensor(y_calif, dtype = torch.float32)\n",
    "\n",
    "x_boston = torch.tensor(x_boston, dtype = torch.float32)\n",
    "y_boston = torch.tensor(y_boston, dtype = torch.float32)"
   ]
  },
  {
   "cell_type": "code",
   "execution_count": 98,
   "id": "748776a7-ab20-4de0-92fa-ab7a53df066e",
   "metadata": {},
   "outputs": [
    {
     "data": {
      "text/plain": [
       "(torch.float32, torch.float32)"
      ]
     },
     "execution_count": 98,
     "metadata": {},
     "output_type": "execute_result"
    }
   ],
   "source": [
    "x_calif.dtype, y_calif.dtype"
   ]
  },
  {
   "cell_type": "code",
   "execution_count": 100,
   "id": "fcb87dd0-a4dc-45d7-ae32-cc4d79ab3ec1",
   "metadata": {},
   "outputs": [],
   "source": [
    "# Обучающая и тестовая выборки\n",
    "x_cte, x_ctr, y_cte, y_ctr = train_test_split(x_calif, y_calif, random_state = 42)\n",
    "x_bte, x_btr, y_bte, y_btr = train_test_split(x_calif, y_calif, random_state = 42, test_size = 0.2)"
   ]
  },
  {
   "cell_type": "markdown",
   "id": "672b393d-2efe-4846-98ff-91f67941609e",
   "metadata": {},
   "source": [
    "**3. Нейрон**"
   ]
  },
  {
   "cell_type": "code",
   "execution_count": 102,
   "id": "797f8db5-2f13-409a-96be-75959bdd263e",
   "metadata": {},
   "outputs": [],
   "source": [
    "# Датасет\n",
    "dataset_c = TensorDataset(x_ctr, y_ctr)\n",
    "dataset_b = TensorDataset(x_btr, y_btr)\n",
    "\n",
    "# Дата-итератор\n",
    "batch_size = 10\n",
    "data_iter_c = DataLoader(dataset_c, batch_size, shuffle = True)\n",
    "data_iter_b = DataLoader(dataset_b, batch_size, shuffle = True)"
   ]
  },
  {
   "cell_type": "code",
   "execution_count": 136,
   "id": "8c8ae830-a743-400b-bc8e-06640b0f7092",
   "metadata": {},
   "outputs": [],
   "source": [
    "# Модель\n",
    "model_c = torch.nn.Sequential(torch.nn.Linear(in_features = x_calif.shape[1], out_features = 1))\n",
    "model_b = torch.nn.Sequential(torch.nn.Linear(in_features = x_boston.shape[1], out_features = 1))\n",
    "\n",
    "#Ф-ция потерь\n",
    "loss = torch.nn.MSELoss(reduction = 'mean')\n",
    "\n",
    "#Оптимайзер\n",
    "trainer_c = torch.optim.SGD(model_c.parameters(), lr = 0.001)\n",
    "trainer_b = torch.optim.SGD(model_b.parameters(), lr = 0.001)"
   ]
  },
  {
   "cell_type": "code",
   "execution_count": 138,
   "id": "2d818648-eba5-4e48-a407-e67e259d14e5",
   "metadata": {},
   "outputs": [],
   "source": [
    "# Обучение. California\n",
    "n_epochs = 100\n",
    "for epoch in range(1, n_epochs + 1):\n",
    "    for x, y in data_iter_c:\n",
    "        trainer_c.zero_grad()\n",
    "        l = loss(model_c(x).reshape(-1), y)\n",
    "        l.backward()\n",
    "        trainer_c.step()\n",
    "    l = loss(model_c(x_ctr).reshape(-1), y_ctr)\n",
    "   # if epoch % 10 == 0:\n",
    "        #print('epoch %d, loss: %f' % (epoch, l.item()),'\\nw', model_c[0].weight.data, '\\nb', model_c[0].bias.data)\n",
    "        #print()\n",
    "        "
   ]
  },
  {
   "cell_type": "code",
   "execution_count": 142,
   "id": "088a3574-d22a-44e0-8003-0648739d5e3a",
   "metadata": {},
   "outputs": [
    {
     "name": "stderr",
     "output_type": "stream",
     "text": [
      "100%|██████████| 100/100 [00:18<00:00,  5.36it/s]\n"
     ]
    }
   ],
   "source": [
    "# Обучение. Boston\n",
    "n_epochs = 100\n",
    "for epoch in tqdm(range(1, n_epochs + 1)):\n",
    "    for x, y in data_iter_b:\n",
    "        trainer_b.zero_grad()\n",
    "        l = loss(model_b(x).reshape(-1), y)\n",
    "        l.backward()\n",
    "        trainer_b.step()\n",
    "    l = loss(model_b(x_btr).reshape(-1), y_btr)\n",
    "    #if epoch % 10 == 0:\n",
    "        #print('epoch %d, loss: %f' % (epoch, l.item()),'\\nw', model_b[0].weight.data, '\\nb', model_b[0].bias.data)\n",
    "        #print()"
   ]
  },
  {
   "cell_type": "markdown",
   "id": "270f0e14-62b6-45c1-bbd5-0cf69b7d9c90",
   "metadata": {},
   "source": [
    "**4. Оценка качества**"
   ]
  },
  {
   "cell_type": "code",
   "execution_count": 172,
   "id": "fc5e12d6-ce3c-4c07-a135-131bd317a55f",
   "metadata": {},
   "outputs": [],
   "source": [
    "from sklearn.metrics import mean_squared_error as MSE\n",
    "from sklearn.metrics import r2_score\n",
    "\n",
    "pred_c = model_c(x_cte).detach().numpy()\n",
    "pred_b = model_b(x_bte).detach().numpy()\n",
    "\n",
    "RMSE_c = MSE(y_cte, pred_c, squared = False)\n",
    "RMSE_b = MSE(y_bte, pred_b, squared = False)\n",
    "\n",
    "r2_c = r2_score(y_cte, pred_c)\n",
    "r2_b = r2_score(y_bte, pred_b)"
   ]
  },
  {
   "cell_type": "code",
   "execution_count": 174,
   "id": "a7e6d35c-3aa0-4dab-a4a7-56ef247dd009",
   "metadata": {},
   "outputs": [
    {
     "name": "stdout",
     "output_type": "stream",
     "text": [
      "California: 88465.97 0.4134646742384115\n",
      "Boston: 88955.016 0.408054820354639\n"
     ]
    }
   ],
   "source": [
    "print('California:', RMSE_c, r2_c)\n",
    "print('Boston:', RMSE_b, r2_b)"
   ]
  }
 ],
 "metadata": {
  "kernelspec": {
   "display_name": "Python [conda env:base] *",
   "language": "python",
   "name": "conda-base-py"
  },
  "language_info": {
   "codemirror_mode": {
    "name": "ipython",
    "version": 3
   },
   "file_extension": ".py",
   "mimetype": "text/x-python",
   "name": "python",
   "nbconvert_exporter": "python",
   "pygments_lexer": "ipython3",
   "version": "3.11.5"
  }
 },
 "nbformat": 4,
 "nbformat_minor": 5
}
