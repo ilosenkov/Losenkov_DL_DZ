{
 "cells": [
  {
   "cell_type": "code",
   "execution_count": 1,
   "id": "a5fabf0a-1ba3-48a6-a532-9fb07b1f7c7c",
   "metadata": {},
   "outputs": [],
   "source": [
    "import numpy as np\n",
    "import torch\n",
    "import torchvision as tv\n",
    "import matplotlib.pyplot as plt\n",
    "from tqdm import tqdm"
   ]
  },
  {
   "cell_type": "markdown",
   "id": "50862d99-7e89-4651-840c-b30203f26c6e",
   "metadata": {},
   "source": [
    "**1. Загрузка данных**"
   ]
  },
  {
   "cell_type": "code",
   "execution_count": 3,
   "id": "3f8e5b12-9378-4670-b455-4217303a46d9",
   "metadata": {},
   "outputs": [],
   "source": [
    "data_train = tv.datasets.FashionMNIST('D:\\НЕТОЛОГИЯ\\Deep ML\\файлы', download = True, train = True, transform = tv.transforms.ToTensor())\n",
    "data_test = tv.datasets.FashionMNIST('D:\\НЕТОЛОГИЯ\\Deep ML\\файлы', download = True, train = False, transform = tv.transforms.ToTensor())"
   ]
  },
  {
   "cell_type": "code",
   "execution_count": 66,
   "id": "867d97d6-11d3-4000-ae3c-abb965c1c10b",
   "metadata": {},
   "outputs": [
    {
     "name": "stdout",
     "output_type": "stream",
     "text": [
      "число классов: 10\n",
      "\n",
      "train: torch.Size([60000, 28, 28]) Dataset FashionMNIST\n",
      "    Number of datapoints: 60000\n",
      "    Root location: D:\\НЕТОЛОГИЯ\\Deep ML\\файлы\n",
      "    Split: Train\n",
      "    StandardTransform\n",
      "Transform: ToTensor()\n",
      "\n",
      "test: torch.Size([10000, 28, 28]) Dataset FashionMNIST\n",
      "    Number of datapoints: 10000\n",
      "    Root location: D:\\НЕТОЛОГИЯ\\Deep ML\\файлы\n",
      "    Split: Test\n",
      "    StandardTransform\n",
      "Transform: ToTensor()\n"
     ]
    }
   ],
   "source": [
    "print('число классов:', len(data_train.classes))\n",
    "print()\n",
    "print('train:', data_train.data.shape, data_train)\n",
    "print()\n",
    "print('test:', data_test.data.shape, data_test)"
   ]
  },
  {
   "cell_type": "code",
   "execution_count": 5,
   "id": "7f938dff-f8d2-4b9a-91c5-f0df9c1d552c",
   "metadata": {},
   "outputs": [
    {
     "data": {
      "image/png": "[encoded data removed]",
      "text/plain": [
       "<Figure size 400x400 with 9 Axes>"
      ]
     },
     "metadata": {},
     "output_type": "display_data"
    }
   ],
   "source": [
    "# Визуализация данных\n",
    "labels_map  = {}\n",
    "for i, n in enumerate(data_train.classes):\n",
    "    labels_map[i] = n\n",
    "\n",
    "figure = plt.figure(figsize = (4, 4))\n",
    "cols, rows = 3, 3\n",
    "for i in range(1, cols * rows + 1):\n",
    "    sample_idx = torch.randint(len(data_train), size = (1,)).item()\n",
    "    img, label = data_train[sample_idx]\n",
    "    figure.add_subplot(rows, cols, i)\n",
    "    plt.title(labels_map[label])\n",
    "    plt.axis('off')\n",
    "    plt.imshow(img.squeeze(), cmap = 'gray')\n",
    "plt.show()"
   ]
  },
  {
   "cell_type": "markdown",
   "id": "4b02c2f2-fc0f-443d-b2ae-e87ca077cdf4",
   "metadata": {},
   "source": [
    "**2. Создание модели**. В результате экспериментов наилучшее качество показала модель со следующими параметрами:\n",
    " - 2 линейных слоя\n",
    " - функция активации GELU  \n",
    " - методо оптимизации RMSProp\n",
    " - learning rate = 0.001\n",
    " - число эпох = 40"
   ]
  },
  {
   "cell_type": "code",
   "execution_count": 142,
   "id": "4f16ef36-4c34-42e1-b771-2350114dba6b",
   "metadata": {},
   "outputs": [
    {
     "data": {
      "text/plain": [
       "Sequential(\n",
       "  (0): Flatten(start_dim=1, end_dim=-1)\n",
       "  (1): Linear(in_features=784, out_features=512, bias=True)\n",
       "  (2): GELU(approximate='none')\n",
       "  (3): Linear(in_features=512, out_features=10, bias=True)\n",
       ")"
      ]
     },
     "execution_count": 142,
     "metadata": {},
     "output_type": "execute_result"
    }
   ],
   "source": [
    "batch_size = 256\n",
    "input_shape = data_train.data.shape[1] * data_train.data.shape[2]\n",
    "class_number = len(data_train.classes)\n",
    "\n",
    "train = torch.utils.data.DataLoader(data_train, batch_size = batch_size)\n",
    "test = torch.utils.data.DataLoader(data_test, batch_size = batch_size)\n",
    "\n",
    "model = torch.nn.Sequential(\n",
    "    torch.nn.Flatten(),\n",
    "    torch.nn.Linear(input_shape, 512),\n",
    "    torch.nn.GELU(),\n",
    "    torch.nn.Linear(512, 10)\n",
    ")\n",
    "loss = torch.nn.CrossEntropyLoss()\n",
    "optimizer = torch.optim.RMSprop(model.parameters(), lr = 0.001)\n",
    "num_epochs = 40\n",
    "\n",
    "model"
   ]
  },
  {
   "cell_type": "markdown",
   "id": "ebe0d5c6-7689-4eef-b078-292dce7d566c",
   "metadata": {},
   "source": [
    "**3. Обучение модели**"
   ]
  },
  {
   "cell_type": "code",
   "execution_count": 144,
   "id": "39dd55ff-8ed0-4bdb-985d-a48b25f6d8fc",
   "metadata": {},
   "outputs": [
    {
     "name": "stdout",
     "output_type": "stream",
     "text": [
      "ep: 0, loss: 0.6125149303294243, accuracy: 0.7905666666666666\n",
      "ep: 5, loss: 0.2822121223870744, accuracy: 0.89535\n",
      "ep: 10, loss: 0.20911943157936663, accuracy: 0.9219333333333334\n",
      "ep: 15, loss: 0.1595812790571375, accuracy: 0.94235\n",
      "ep: 20, loss: 0.12476826173828003, accuracy: 0.9560666666666666\n",
      "ep: 25, loss: 0.09657351854950824, accuracy: 0.9663333333333334\n",
      "ep: 30, loss: 0.08124710766083383, accuracy: 0.9718166666666667\n",
      "ep: 35, loss: 0.065320599816264, accuracy: 0.977\n",
      "ep: 39, loss: 0.0681374070729981, accuracy: 0.9778666666666667\n"
     ]
    }
   ],
   "source": [
    "for epoch in range(num_epochs):\n",
    "    train_iters, train_passed = 0., 0.\n",
    "    train_loss, train_acc = 0., 0.\n",
    "    \n",
    "    model.train()\n",
    "    for x, y in train:\n",
    "        optimizer.zero_grad()\n",
    "        y_pred = model(x)\n",
    "        l = loss(y_pred, y)\n",
    "        l.backward()\n",
    "        optimizer.step()\n",
    "        \n",
    "        train_loss += l.item()\n",
    "        train_acc += (y_pred.argmax(dim = 1) == y).sum().item()\n",
    "        train_iters += 1\n",
    "        train_passed += len(x)\n",
    "    \n",
    "    if epoch % 5 == 0 or epoch == 39:    \n",
    "        print(f'ep: {epoch}, loss: {train_loss/train_iters}, accuracy: {train_acc/train_passed}')"
   ]
  },
  {
   "cell_type": "markdown",
   "id": "e4c07f40-593c-4dd1-9065-acca7ab4c560",
   "metadata": {},
   "source": [
    "**4. Оценка качества**"
   ]
  },
  {
   "cell_type": "code",
   "execution_count": 145,
   "id": "31b605dd-9a13-473d-9231-ef75fe65856f",
   "metadata": {},
   "outputs": [
    {
     "name": "stdout",
     "output_type": "stream",
     "text": [
      "accuracy: 0.8861\n"
     ]
    }
   ],
   "source": [
    "test_iters, test_passed  = 0., 0.\n",
    "test_loss, test_acc = 0., 0.\n",
    "    \n",
    "model.eval()\n",
    "for x, y in test:\n",
    "    y_pred = model(x)\n",
    "    l = loss(y_pred, y)\n",
    "\n",
    "    test_loss += l.item()\n",
    "    test_acc += (y_pred.argmax(dim = 1) == y).sum().item()\n",
    "    test_iters += 1\n",
    "    test_passed += len(x)\n",
    "\n",
    "print(f'accuracy: {test_acc/test_passed}')"
   ]
  }
 ],
 "metadata": {
  "kernelspec": {
   "display_name": "Python [conda env:base] *",
   "language": "python",
   "name": "conda-base-py"
  },
  "language_info": {
   "codemirror_mode": {
    "name": "ipython",
    "version": 3
   },
   "file_extension": ".py",
   "mimetype": "text/x-python",
   "name": "python",
   "nbconvert_exporter": "python",
   "pygments_lexer": "ipython3",
   "version": "3.11.5"
  }
 },
 "nbformat": 4,
 "nbformat_minor": 5
}
